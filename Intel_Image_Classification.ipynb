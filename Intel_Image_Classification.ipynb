{
  "nbformat": 4,
  "nbformat_minor": 0,
  "metadata": {
    "colab": {
      "name": "Intel Image Classification.ipynb",
      "provenance": [],
      "collapsed_sections": [],
      "authorship_tag": "ABX9TyOuD4UpgxbBhBKtuGutOpc6",
      "include_colab_link": true
    },
    "kernelspec": {
      "name": "python3",
      "display_name": "Python 3"
    },
    "language_info": {
      "name": "python"
    },
    "accelerator": "GPU"
  },
  "cells": [
    {
      "cell_type": "markdown",
      "metadata": {
        "id": "view-in-github",
        "colab_type": "text"
      },
      "source": [
        "<a href=\"https://colab.research.google.com/github/jhuma26/Intel-Image-Classification/blob/main/Intel_Image_Classification.ipynb\" target=\"_parent\"><img src=\"https://colab.research.google.com/assets/colab-badge.svg\" alt=\"Open In Colab\"/></a>"
      ]
    },
    {
      "cell_type": "code",
      "execution_count": null,
      "metadata": {
        "id": "YyUeyVUQt9sx"
      },
      "outputs": [],
      "source": [
        "import tensorflow as tf\n",
        "from tensorflow.keras.preprocessing.image import ImageDataGenerator"
      ]
    },
    {
      "cell_type": "code",
      "source": [
        "from google.colab import drive\n",
        "drive.mount('/content/drive')"
      ],
      "metadata": {
        "colab": {
          "base_uri": "https://localhost:8080/"
        },
        "id": "GEmAPsmBuHyY",
        "outputId": "246ad001-0edf-42b1-f872-9a06b14a921f"
      },
      "execution_count": null,
      "outputs": [
        {
          "output_type": "stream",
          "name": "stdout",
          "text": [
            "Mounted at /content/drive\n"
          ]
        }
      ]
    },
    {
      "cell_type": "code",
      "source": [
        "import zipfile\n",
        "import os\n",
        "\n",
        "zip_ref = zipfile.ZipFile('/content/drive/MyDrive/Dataset/Intel.zip', 'r') #Opens the zip file in read mode\n",
        "zip_ref.extractall('/tmp') #Extracts the files into the /tmp folder\n",
        "zip_ref.close()"
      ],
      "metadata": {
        "id": "KVYUDvN_uJzr"
      },
      "execution_count": null,
      "outputs": []
    },
    {
      "cell_type": "code",
      "source": [
        "# Part 1 - Data Preprocessing\n",
        "\n",
        "# Preprocessing the Training set\n",
        "\n",
        "train_datagen=ImageDataGenerator(\n",
        "  rescale=1./255,\n",
        "  shear_range=0.2,\n",
        "  zoom_range=0.2,\n",
        "  horizontal_flip=True\n",
        ")"
      ],
      "metadata": {
        "id": "0zzmBlYHwH1-"
      },
      "execution_count": null,
      "outputs": []
    },
    {
      "cell_type": "code",
      "source": [
        "training_set=train_datagen.flow_from_directory('/tmp/seg_train/seg_train',\n",
        "                                               target_size=(64,64),\n",
        "                                               batch_size=32,\n",
        "                                               class_mode='categorical')"
      ],
      "metadata": {
        "colab": {
          "base_uri": "https://localhost:8080/"
        },
        "id": "ArraGxbAwMb9",
        "outputId": "4f8f79f5-8aeb-4dd7-f6b1-cfb1bb3883ce"
      },
      "execution_count": null,
      "outputs": [
        {
          "output_type": "stream",
          "name": "stdout",
          "text": [
            "Found 14034 images belonging to 6 classes.\n"
          ]
        }
      ]
    },
    {
      "cell_type": "code",
      "source": [
        "training_set.class_indices"
      ],
      "metadata": {
        "colab": {
          "base_uri": "https://localhost:8080/"
        },
        "id": "Xyn9ZHJr6DJh",
        "outputId": "f6bf7a30-019c-4076-8977-3125130ef6ef"
      },
      "execution_count": null,
      "outputs": [
        {
          "output_type": "execute_result",
          "data": {
            "text/plain": [
              "{'buildings': 0,\n",
              " 'forest': 1,\n",
              " 'glacier': 2,\n",
              " 'mountain': 3,\n",
              " 'sea': 4,\n",
              " 'street': 5}"
            ]
          },
          "metadata": {},
          "execution_count": 8
        }
      ]
    },
    {
      "cell_type": "code",
      "source": [
        "# Preprocessing the test set\n",
        "\n",
        "test_datagen=ImageDataGenerator(rescale=1./255)"
      ],
      "metadata": {
        "id": "iAdY2uQmweql"
      },
      "execution_count": null,
      "outputs": []
    },
    {
      "cell_type": "code",
      "source": [
        "test_set=test_datagen.flow_from_directory('/tmp/seg_test/seg_test',\n",
        "                                          target_size=(64,64),\n",
        "                                          batch_size=32,\n",
        "                                          class_mode='categorical')"
      ],
      "metadata": {
        "colab": {
          "base_uri": "https://localhost:8080/"
        },
        "id": "88ibIhLKwfZz",
        "outputId": "73fe9f4a-c62d-491e-c6ec-d65dcd320d75"
      },
      "execution_count": null,
      "outputs": [
        {
          "output_type": "stream",
          "name": "stdout",
          "text": [
            "Found 3000 images belonging to 6 classes.\n"
          ]
        }
      ]
    },
    {
      "cell_type": "code",
      "source": [
        "from tensorflow.keras.layers import Conv2D\n",
        "from tensorflow.keras.layers import Dense"
      ],
      "metadata": {
        "id": "s-APnMJFwp1I"
      },
      "execution_count": null,
      "outputs": []
    },
    {
      "cell_type": "code",
      "source": [
        "from tensorflow.keras.regularizers import l2"
      ],
      "metadata": {
        "id": "2pj9tl-YwsEl"
      },
      "execution_count": null,
      "outputs": []
    },
    {
      "cell_type": "code",
      "source": [
        "# Building the CNN\n",
        "# Initializing the CNN\n",
        "\n",
        "cnn=tf.keras.models.Sequential()\n",
        "\n",
        "# Step 1 - Convolution\n",
        "cnn.add(tf.keras.layers.Conv2D(filters=32,padding=\"same\",kernel_size=3, activation='relu', strides=2, input_shape=[64, 64, 3]))\n",
        "\n",
        "# Step 2 - Pooling\n",
        "cnn.add(tf.keras.layers.MaxPool2D(pool_size=2, strides=2))\n",
        "\n",
        "# Adding a second convolutional layer\n",
        "cnn.add(tf.keras.layers.Conv2D(filters=32,padding='same',kernel_size=3, activation='relu'))\n",
        "cnn.add(tf.keras.layers.MaxPool2D(pool_size=2, strides=2))\n",
        "\n",
        "# Step 3 - Flattening\n",
        "cnn.add(tf.keras.layers.Flatten())\n",
        "\n",
        "# Step 4 - Full Connection\n",
        "cnn.add(tf.keras.layers.Dense(units=128, activation='relu'))\n",
        "\n",
        "# Step 5 - Output Layer\n",
        "#cnn.add(tf.keras.layers.Dense(units=1, activation='sigmoid'))\n",
        "## For Binary Classification\n",
        "#cnn.add(Dense(1, kernel_regularizer=tf.keras.regularizers.l2(0.01),activation\n",
        "#             ='linear'))"
      ],
      "metadata": {
        "id": "d85BJU9ewun2"
      },
      "execution_count": null,
      "outputs": []
    },
    {
      "cell_type": "code",
      "source": [
        "# for mulitclassification\n",
        "cnn.add(Dense(6, kernel_regularizer=tf.keras.regularizers.l2(0.01),activation\n",
        "             ='softmax'))\n",
        "cnn.compile(optimizer = 'adam', loss = 'squared_hinge', metrics = ['accuracy'])"
      ],
      "metadata": {
        "id": "yPjIi9Phw7lR"
      },
      "execution_count": null,
      "outputs": []
    },
    {
      "cell_type": "code",
      "source": [
        "r=cnn.fit(x = training_set, validation_data = test_set, epochs = 60)"
      ],
      "metadata": {
        "colab": {
          "base_uri": "https://localhost:8080/"
        },
        "id": "ido9ZbjUxHtd",
        "outputId": "5345dbe6-c496-4b2c-f754-2a7f0c0fe168"
      },
      "execution_count": null,
      "outputs": [
        {
          "output_type": "stream",
          "name": "stdout",
          "text": [
            "Epoch 1/60\n",
            "439/439 [==============================] - 45s 77ms/step - loss: 1.1391 - accuracy: 0.5392 - val_loss: 1.0814 - val_accuracy: 0.6190\n",
            "Epoch 2/60\n",
            "439/439 [==============================] - 35s 79ms/step - loss: 1.0709 - accuracy: 0.6312 - val_loss: 1.0551 - val_accuracy: 0.6627\n",
            "Epoch 3/60\n",
            "439/439 [==============================] - 34s 77ms/step - loss: 1.0488 - accuracy: 0.6679 - val_loss: 1.0540 - val_accuracy: 0.6550\n",
            "Epoch 4/60\n",
            "439/439 [==============================] - 33s 76ms/step - loss: 1.0307 - accuracy: 0.6967 - val_loss: 1.0195 - val_accuracy: 0.7147\n",
            "Epoch 5/60\n",
            "439/439 [==============================] - 33s 75ms/step - loss: 1.0230 - accuracy: 0.7084 - val_loss: 1.0340 - val_accuracy: 0.6917\n",
            "Epoch 6/60\n",
            "439/439 [==============================] - 34s 76ms/step - loss: 1.0140 - accuracy: 0.7212 - val_loss: 1.0272 - val_accuracy: 0.7087\n",
            "Epoch 7/60\n",
            "439/439 [==============================] - 34s 77ms/step - loss: 1.0054 - accuracy: 0.7399 - val_loss: 1.0150 - val_accuracy: 0.7263\n",
            "Epoch 8/60\n",
            "439/439 [==============================] - 34s 77ms/step - loss: 1.0012 - accuracy: 0.7458 - val_loss: 0.9993 - val_accuracy: 0.7490\n",
            "Epoch 9/60\n",
            "439/439 [==============================] - 33s 76ms/step - loss: 0.9952 - accuracy: 0.7544 - val_loss: 1.0059 - val_accuracy: 0.7327\n",
            "Epoch 10/60\n",
            "439/439 [==============================] - 33s 75ms/step - loss: 0.9925 - accuracy: 0.7588 - val_loss: 0.9866 - val_accuracy: 0.7670\n",
            "Epoch 11/60\n",
            "439/439 [==============================] - 36s 81ms/step - loss: 0.9857 - accuracy: 0.7704 - val_loss: 0.9879 - val_accuracy: 0.7640\n",
            "Epoch 12/60\n",
            "439/439 [==============================] - 33s 76ms/step - loss: 0.9822 - accuracy: 0.7736 - val_loss: 0.9893 - val_accuracy: 0.7657\n",
            "Epoch 13/60\n",
            "439/439 [==============================] - 33s 76ms/step - loss: 0.9806 - accuracy: 0.7780 - val_loss: 0.9884 - val_accuracy: 0.7620\n",
            "Epoch 14/60\n",
            "439/439 [==============================] - 33s 76ms/step - loss: 0.9777 - accuracy: 0.7813 - val_loss: 0.9968 - val_accuracy: 0.7513\n",
            "Epoch 15/60\n",
            "439/439 [==============================] - 33s 75ms/step - loss: 0.9732 - accuracy: 0.7907 - val_loss: 0.9754 - val_accuracy: 0.7873\n",
            "Epoch 16/60\n",
            "439/439 [==============================] - 33s 76ms/step - loss: 0.9721 - accuracy: 0.7924 - val_loss: 0.9842 - val_accuracy: 0.7733\n",
            "Epoch 17/60\n",
            "439/439 [==============================] - 33s 76ms/step - loss: 0.9684 - accuracy: 0.7996 - val_loss: 0.9746 - val_accuracy: 0.7863\n",
            "Epoch 18/60\n",
            "439/439 [==============================] - 33s 76ms/step - loss: 0.9668 - accuracy: 0.7974 - val_loss: 0.9770 - val_accuracy: 0.7840\n",
            "Epoch 19/60\n",
            "439/439 [==============================] - 33s 76ms/step - loss: 0.9632 - accuracy: 0.8061 - val_loss: 0.9710 - val_accuracy: 0.7897\n",
            "Epoch 20/60\n",
            "439/439 [==============================] - 34s 76ms/step - loss: 0.9607 - accuracy: 0.8106 - val_loss: 0.9669 - val_accuracy: 0.7953\n",
            "Epoch 21/60\n",
            "439/439 [==============================] - 33s 76ms/step - loss: 0.9601 - accuracy: 0.8105 - val_loss: 0.9749 - val_accuracy: 0.7853\n",
            "Epoch 22/60\n",
            "439/439 [==============================] - 33s 76ms/step - loss: 0.9564 - accuracy: 0.8189 - val_loss: 0.9715 - val_accuracy: 0.7907\n",
            "Epoch 23/60\n",
            "439/439 [==============================] - 33s 76ms/step - loss: 0.9568 - accuracy: 0.8158 - val_loss: 0.9675 - val_accuracy: 0.7980\n",
            "Epoch 24/60\n",
            "439/439 [==============================] - 33s 75ms/step - loss: 0.9552 - accuracy: 0.8197 - val_loss: 0.9807 - val_accuracy: 0.7760\n",
            "Epoch 25/60\n",
            "439/439 [==============================] - 33s 76ms/step - loss: 0.9536 - accuracy: 0.8201 - val_loss: 0.9659 - val_accuracy: 0.7987\n",
            "Epoch 26/60\n",
            "439/439 [==============================] - 33s 76ms/step - loss: 0.9513 - accuracy: 0.8240 - val_loss: 0.9596 - val_accuracy: 0.8110\n",
            "Epoch 27/60\n",
            "439/439 [==============================] - 33s 76ms/step - loss: 0.9494 - accuracy: 0.8283 - val_loss: 0.9758 - val_accuracy: 0.7843\n",
            "Epoch 28/60\n",
            "439/439 [==============================] - 33s 76ms/step - loss: 0.9484 - accuracy: 0.8296 - val_loss: 0.9705 - val_accuracy: 0.7957\n",
            "Epoch 29/60\n",
            "439/439 [==============================] - 33s 76ms/step - loss: 0.9476 - accuracy: 0.8296 - val_loss: 0.9622 - val_accuracy: 0.8057\n",
            "Epoch 30/60\n",
            "439/439 [==============================] - 33s 75ms/step - loss: 0.9448 - accuracy: 0.8348 - val_loss: 0.9610 - val_accuracy: 0.8090\n",
            "Epoch 31/60\n",
            "439/439 [==============================] - 33s 76ms/step - loss: 0.9454 - accuracy: 0.8337 - val_loss: 0.9527 - val_accuracy: 0.8240\n",
            "Epoch 32/60\n",
            "439/439 [==============================] - 33s 76ms/step - loss: 0.9419 - accuracy: 0.8388 - val_loss: 0.9537 - val_accuracy: 0.8190\n",
            "Epoch 33/60\n",
            "439/439 [==============================] - 33s 75ms/step - loss: 0.9407 - accuracy: 0.8418 - val_loss: 0.9572 - val_accuracy: 0.8187\n",
            "Epoch 34/60\n",
            "439/439 [==============================] - 33s 76ms/step - loss: 0.9407 - accuracy: 0.8401 - val_loss: 0.9535 - val_accuracy: 0.8207\n",
            "Epoch 35/60\n",
            "439/439 [==============================] - 33s 75ms/step - loss: 0.9398 - accuracy: 0.8432 - val_loss: 0.9518 - val_accuracy: 0.8203\n",
            "Epoch 36/60\n",
            "439/439 [==============================] - 33s 76ms/step - loss: 0.9381 - accuracy: 0.8475 - val_loss: 0.9697 - val_accuracy: 0.7930\n",
            "Epoch 37/60\n",
            "439/439 [==============================] - 33s 75ms/step - loss: 0.9376 - accuracy: 0.8468 - val_loss: 0.9546 - val_accuracy: 0.8187\n",
            "Epoch 38/60\n",
            "439/439 [==============================] - 33s 76ms/step - loss: 0.9360 - accuracy: 0.8508 - val_loss: 0.9695 - val_accuracy: 0.7900\n",
            "Epoch 39/60\n",
            "439/439 [==============================] - 33s 75ms/step - loss: 0.9336 - accuracy: 0.8539 - val_loss: 0.9573 - val_accuracy: 0.8113\n",
            "Epoch 40/60\n",
            "439/439 [==============================] - 33s 75ms/step - loss: 0.9364 - accuracy: 0.8484 - val_loss: 0.9554 - val_accuracy: 0.8170\n",
            "Epoch 41/60\n",
            "439/439 [==============================] - 33s 76ms/step - loss: 0.9340 - accuracy: 0.8519 - val_loss: 0.9562 - val_accuracy: 0.8163\n",
            "Epoch 42/60\n",
            "439/439 [==============================] - 33s 75ms/step - loss: 0.9320 - accuracy: 0.8549 - val_loss: 0.9504 - val_accuracy: 0.8250\n",
            "Epoch 43/60\n",
            "439/439 [==============================] - 33s 76ms/step - loss: 0.9299 - accuracy: 0.8584 - val_loss: 0.9650 - val_accuracy: 0.8010\n",
            "Epoch 44/60\n",
            "439/439 [==============================] - 33s 75ms/step - loss: 0.9330 - accuracy: 0.8544 - val_loss: 0.9503 - val_accuracy: 0.8223\n",
            "Epoch 45/60\n",
            "439/439 [==============================] - 33s 75ms/step - loss: 0.9295 - accuracy: 0.8603 - val_loss: 0.9536 - val_accuracy: 0.8200\n",
            "Epoch 46/60\n",
            "439/439 [==============================] - 33s 75ms/step - loss: 0.9290 - accuracy: 0.8601 - val_loss: 0.9619 - val_accuracy: 0.8077\n",
            "Epoch 47/60\n",
            "439/439 [==============================] - 33s 75ms/step - loss: 0.9281 - accuracy: 0.8623 - val_loss: 0.9521 - val_accuracy: 0.8203\n",
            "Epoch 48/60\n",
            "439/439 [==============================] - 33s 75ms/step - loss: 0.9274 - accuracy: 0.8628 - val_loss: 0.9490 - val_accuracy: 0.8267\n",
            "Epoch 49/60\n",
            "439/439 [==============================] - 33s 75ms/step - loss: 0.9253 - accuracy: 0.8677 - val_loss: 0.9615 - val_accuracy: 0.8060\n",
            "Epoch 50/60\n",
            "439/439 [==============================] - 33s 75ms/step - loss: 0.9251 - accuracy: 0.8670 - val_loss: 0.9565 - val_accuracy: 0.8180\n",
            "Epoch 51/60\n",
            "439/439 [==============================] - 33s 75ms/step - loss: 0.9221 - accuracy: 0.8717 - val_loss: 0.9534 - val_accuracy: 0.8193\n",
            "Epoch 52/60\n",
            "439/439 [==============================] - 33s 76ms/step - loss: 0.9239 - accuracy: 0.8684 - val_loss: 0.9483 - val_accuracy: 0.8260\n",
            "Epoch 53/60\n",
            "439/439 [==============================] - 33s 75ms/step - loss: 0.9222 - accuracy: 0.8713 - val_loss: 0.9454 - val_accuracy: 0.8340\n",
            "Epoch 54/60\n",
            "439/439 [==============================] - 34s 77ms/step - loss: 0.9219 - accuracy: 0.8707 - val_loss: 0.9467 - val_accuracy: 0.8293\n",
            "Epoch 55/60\n",
            "439/439 [==============================] - 34s 77ms/step - loss: 0.9196 - accuracy: 0.8764 - val_loss: 0.9577 - val_accuracy: 0.8127\n",
            "Epoch 56/60\n",
            "439/439 [==============================] - 33s 75ms/step - loss: 0.9195 - accuracy: 0.8760 - val_loss: 0.9542 - val_accuracy: 0.8153\n",
            "Epoch 57/60\n",
            "439/439 [==============================] - 33s 75ms/step - loss: 0.9195 - accuracy: 0.8764 - val_loss: 0.9549 - val_accuracy: 0.8170\n",
            "Epoch 58/60\n",
            "439/439 [==============================] - 33s 75ms/step - loss: 0.9174 - accuracy: 0.8804 - val_loss: 0.9475 - val_accuracy: 0.8257\n",
            "Epoch 59/60\n",
            "439/439 [==============================] - 33s 76ms/step - loss: 0.9180 - accuracy: 0.8771 - val_loss: 0.9507 - val_accuracy: 0.8253\n",
            "Epoch 60/60\n",
            "439/439 [==============================] - 34s 77ms/step - loss: 0.9189 - accuracy: 0.8759 - val_loss: 0.9534 - val_accuracy: 0.8210\n"
          ]
        }
      ]
    },
    {
      "cell_type": "code",
      "source": [
        "# plot the loss\n",
        "import matplotlib.pyplot as plt\n",
        "plt.plot(r.history['loss'], label='train loss')\n",
        "plt.plot(r.history['val_loss'], label='val loss')\n",
        "plt.legend()\n",
        "plt.show()\n",
        "plt.savefig('LossVal_loss')\n"
      ],
      "metadata": {
        "colab": {
          "base_uri": "https://localhost:8080/",
          "height": 286
        },
        "id": "u73HLxrV0FvE",
        "outputId": "b58423af-81dd-4fbd-f598-c934822cc07f"
      },
      "execution_count": null,
      "outputs": [
        {
          "output_type": "display_data",
          "data": {
            "text/plain": [
              "<Figure size 432x288 with 1 Axes>"
            ],
            "image/png": "[encoded data removed]"
          },
          "metadata": {
            "needs_background": "light"
          }
        },
        {
          "output_type": "display_data",
          "data": {
            "text/plain": [
              "<Figure size 432x288 with 0 Axes>"
            ]
          },
          "metadata": {}
        }
      ]
    },
    {
      "cell_type": "code",
      "source": [
        "# plot the accuracy\n",
        "plt.plot(r.history['accuracy'], label='train acc')\n",
        "plt.plot(r.history['val_accuracy'], label='val acc')\n",
        "plt.legend()\n",
        "plt.show()\n",
        "plt.savefig('AccVal_acc')"
      ],
      "metadata": {
        "colab": {
          "base_uri": "https://localhost:8080/",
          "height": 282
        },
        "id": "AARnEYLJ0GWC",
        "outputId": "cbade4e1-9825-4c30-a845-48ce77b0066e"
      },
      "execution_count": null,
      "outputs": [
        {
          "output_type": "display_data",
          "data": {
            "text/plain": [
              "<Figure size 432x288 with 1 Axes>"
            ],
            "image/png": "[encoded data removed]"
          },
          "metadata": {
            "needs_background": "light"
          }
        },
        {
          "output_type": "display_data",
          "data": {
            "text/plain": [
              "<Figure size 432x288 with 0 Axes>"
            ]
          },
          "metadata": {}
        }
      ]
    },
    {
      "cell_type": "code",
      "source": [
        "# Part 4 - Making a single prediction\n",
        "\n",
        "import numpy as np\n",
        "from tensorflow.keras.preprocessing import image\n",
        "test_image = image.load_img('/tmp/seg_test/seg_test/buildings/20064.jpg', target_size = (64,64))\n",
        "test_image = image.img_to_array(test_image)\n",
        "test_image=test_image/255\n",
        "test_image = np.expand_dims(test_image, axis = 0)\n",
        "result = cnn.predict(test_image)"
      ],
      "metadata": {
        "id": "Ei2NjjLr0L8V"
      },
      "execution_count": null,
      "outputs": []
    },
    {
      "cell_type": "code",
      "source": [
        "result"
      ],
      "metadata": {
        "colab": {
          "base_uri": "https://localhost:8080/"
        },
        "id": "OCKWsHNs4y04",
        "outputId": "f4da5ff3-b3f6-4b43-9cc4-bb1131aa2193"
      },
      "execution_count": null,
      "outputs": [
        {
          "output_type": "execute_result",
          "data": {
            "text/plain": [
              "array([[0.14490399, 0.1586616 , 0.17557076, 0.19023423, 0.15945461,\n",
              "        0.17117484]], dtype=float32)"
            ]
          },
          "metadata": {},
          "execution_count": 28
        }
      ]
    },
    {
      "cell_type": "code",
      "source": [
        "test_image"
      ],
      "metadata": {
        "colab": {
          "base_uri": "https://localhost:8080/"
        },
        "id": "4QKml8NW4z1b",
        "outputId": "b97e7894-d473-4399-b7ee-75cc69c039bb"
      },
      "execution_count": null,
      "outputs": [
        {
          "output_type": "execute_result",
          "data": {
            "text/plain": [
              "array([[[[0.5647059 , 0.6745098 , 0.92941177],\n",
              "         [0.5647059 , 0.68235296, 0.9254902 ],\n",
              "         [0.5686275 , 0.6862745 , 0.92941177],\n",
              "         ...,\n",
              "         [0.07843138, 0.28627452, 0.56078434],\n",
              "         [0.34901962, 0.5882353 , 0.84313726],\n",
              "         [0.4509804 , 0.63529414, 0.91764706]],\n",
              "\n",
              "        [[0.5529412 , 0.67058825, 0.92156863],\n",
              "         [0.5568628 , 0.6745098 , 0.9254902 ],\n",
              "         [0.56078434, 0.6784314 , 0.92156863],\n",
              "         ...,\n",
              "         [0.46666667, 0.53333336, 0.74509805],\n",
              "         [0.79607844, 0.80784315, 0.88235295],\n",
              "         [0.7411765 , 0.75686276, 0.85490197]],\n",
              "\n",
              "        [[0.5568628 , 0.6745098 , 0.9254902 ],\n",
              "         [0.5568628 , 0.6745098 , 0.9254902 ],\n",
              "         [0.56078434, 0.6784314 , 0.92156863],\n",
              "         ...,\n",
              "         [0.7647059 , 0.8156863 , 0.8784314 ],\n",
              "         [0.9882353 , 0.9843137 , 0.9137255 ],\n",
              "         [1.        , 0.99215686, 0.95686275]],\n",
              "\n",
              "        ...,\n",
              "\n",
              "        [[0.08235294, 0.        , 0.        ],\n",
              "         [0.3019608 , 0.17254902, 0.        ],\n",
              "         [0.1882353 , 0.09803922, 0.        ],\n",
              "         ...,\n",
              "         [0.41960785, 0.46666667, 0.1764706 ],\n",
              "         [0.01960784, 0.04705882, 0.        ],\n",
              "         [0.54509807, 0.5764706 , 0.3529412 ]],\n",
              "\n",
              "        [[0.09411765, 0.        , 0.        ],\n",
              "         [0.2784314 , 0.13333334, 0.05882353],\n",
              "         [0.16862746, 0.0627451 , 0.        ],\n",
              "         ...,\n",
              "         [0.6666667 , 0.7058824 , 0.57254905],\n",
              "         [0.12156863, 0.13725491, 0.07843138],\n",
              "         [0.654902  , 0.6745098 , 0.5882353 ]],\n",
              "\n",
              "        [[0.6784314 , 0.59607846, 0.2784314 ],\n",
              "         [0.6784314 , 0.5764706 , 0.28235295],\n",
              "         [0.4       , 0.32156864, 0.        ],\n",
              "         ...,\n",
              "         [0.01960784, 0.06666667, 0.01960784],\n",
              "         [0.07058824, 0.09803922, 0.12156863],\n",
              "         [0.11764706, 0.14509805, 0.11764706]]]], dtype=float32)"
            ]
          },
          "metadata": {},
          "execution_count": 29
        }
      ]
    },
    {
      "cell_type": "code",
      "source": [
        "pred = np.argmax(cnn.predict(test_image),axis=1)"
      ],
      "metadata": {
        "id": "F4t4uGPz5r0R"
      },
      "execution_count": null,
      "outputs": []
    },
    {
      "cell_type": "code",
      "source": [
        "pred"
      ],
      "metadata": {
        "colab": {
          "base_uri": "https://localhost:8080/"
        },
        "id": "mHsn45925vYb",
        "outputId": "4b85ed23-85aa-4c3c-c8a6-a07b7e460ea1"
      },
      "execution_count": null,
      "outputs": [
        {
          "output_type": "execute_result",
          "data": {
            "text/plain": [
              "array([0])"
            ]
          },
          "metadata": {},
          "execution_count": 20
        }
      ]
    },
    {
      "cell_type": "code",
      "source": [
        "index = ['buildings','forest','glacier','mountain','sea','street']"
      ],
      "metadata": {
        "id": "saFe5trs5yRD"
      },
      "execution_count": null,
      "outputs": []
    },
    {
      "cell_type": "code",
      "source": [
        "index[pred[0]]"
      ],
      "metadata": {
        "colab": {
          "base_uri": "https://localhost:8080/",
          "height": 35
        },
        "id": "hVFULmwJ51Zo",
        "outputId": "75aa860b-1026-4418-e455-e2250927425b"
      },
      "execution_count": null,
      "outputs": [
        {
          "output_type": "execute_result",
          "data": {
            "text/plain": [
              "'buildings'"
            ],
            "application/vnd.google.colaboratory.intrinsic+json": {
              "type": "string"
            }
          },
          "metadata": {},
          "execution_count": 22
        }
      ]
    },
    {
      "cell_type": "markdown",
      "source": [
        "### Prediction 2"
      ],
      "metadata": {
        "id": "PU2FPLjDENtY"
      }
    },
    {
      "cell_type": "code",
      "source": [
        "import numpy as np\n",
        "from tensorflow.keras.preprocessing import image\n",
        "test_image = image.load_img('/tmp/seg_test/seg_test/buildings/20078.jpg', target_size = (64,64))\n",
        "test_image = image.img_to_array(test_image)\n",
        "test_image=test_image/255\n",
        "test_image = np.expand_dims(test_image, axis = 0)\n",
        "result = cnn.predict(test_image)"
      ],
      "metadata": {
        "id": "DugPc-vQD_II"
      },
      "execution_count": null,
      "outputs": []
    },
    {
      "cell_type": "code",
      "source": [
        "result"
      ],
      "metadata": {
        "colab": {
          "base_uri": "https://localhost:8080/"
        },
        "id": "SP91Hol6ELN_",
        "outputId": "c3f5a114-c172-45a7-a1b5-10239b456f10"
      },
      "execution_count": null,
      "outputs": [
        {
          "output_type": "execute_result",
          "data": {
            "text/plain": [
              "array([[9.9999297e-01, 7.9673166e-09, 8.2419304e-15, 6.4692705e-07,\n",
              "        6.3847469e-06, 6.1827423e-09]], dtype=float32)"
            ]
          },
          "metadata": {},
          "execution_count": 24
        }
      ]
    },
    {
      "cell_type": "code",
      "source": [
        "pred = np.argmax(cnn.predict(test_image),axis=1)"
      ],
      "metadata": {
        "id": "g6Zzr-ESESZn"
      },
      "execution_count": null,
      "outputs": []
    },
    {
      "cell_type": "code",
      "source": [
        "pred"
      ],
      "metadata": {
        "colab": {
          "base_uri": "https://localhost:8080/"
        },
        "id": "J24PJXMKEVDg",
        "outputId": "e18d5329-4d46-485b-e64b-54231ca696ee"
      },
      "execution_count": null,
      "outputs": [
        {
          "output_type": "execute_result",
          "data": {
            "text/plain": [
              "array([0])"
            ]
          },
          "metadata": {},
          "execution_count": 26
        }
      ]
    },
    {
      "cell_type": "code",
      "source": [
        "index = ['buildings','forest','glacier','mountain','sea','street']"
      ],
      "metadata": {
        "id": "dB8Vi2v4EWEQ"
      },
      "execution_count": null,
      "outputs": []
    },
    {
      "cell_type": "code",
      "source": [
        "index[pred[0]]"
      ],
      "metadata": {
        "colab": {
          "base_uri": "https://localhost:8080/",
          "height": 35
        },
        "id": "zCJZCdYyEXei",
        "outputId": "b965b123-3e47-465b-86c3-7cca74b848f2"
      },
      "execution_count": null,
      "outputs": [
        {
          "output_type": "execute_result",
          "data": {
            "text/plain": [
              "'buildings'"
            ],
            "application/vnd.google.colaboratory.intrinsic+json": {
              "type": "string"
            }
          },
          "metadata": {},
          "execution_count": 28
        }
      ]
    },
    {
      "cell_type": "markdown",
      "source": [
        "### Prediction 3"
      ],
      "metadata": {
        "id": "EqGlEKHDEeBo"
      }
    },
    {
      "cell_type": "code",
      "source": [
        "import numpy as np\n",
        "from tensorflow.keras.preprocessing import image\n",
        "test_image = image.load_img('/tmp/seg_test/seg_test/glacier/20092.jpg', target_size = (64,64))\n",
        "test_image = image.img_to_array(test_image)\n",
        "test_image=test_image/255\n",
        "test_image = np.expand_dims(test_image, axis = 0)\n",
        "result = cnn.predict(test_image)"
      ],
      "metadata": {
        "id": "BpXUFTyBEdxR"
      },
      "execution_count": null,
      "outputs": []
    },
    {
      "cell_type": "code",
      "source": [
        "pred = np.argmax(cnn.predict(test_image),axis=1)"
      ],
      "metadata": {
        "id": "Hu5ARASbEtgc"
      },
      "execution_count": null,
      "outputs": []
    },
    {
      "cell_type": "code",
      "source": [
        "index[pred[0]]"
      ],
      "metadata": {
        "colab": {
          "base_uri": "https://localhost:8080/",
          "height": 35
        },
        "id": "ACGOTj9lEubQ",
        "outputId": "e23a4086-5840-4551-89ba-f346a23b3d6b"
      },
      "execution_count": null,
      "outputs": [
        {
          "output_type": "execute_result",
          "data": {
            "text/plain": [
              "'glacier'"
            ],
            "application/vnd.google.colaboratory.intrinsic+json": {
              "type": "string"
            }
          },
          "metadata": {},
          "execution_count": 31
        }
      ]
    }
  ]
}